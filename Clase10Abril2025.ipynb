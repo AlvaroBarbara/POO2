{
 "cells": [
  {
   "cell_type": "code",
   "execution_count": 1,
   "id": "b8d0b8bf-53bb-44b8-8315-d111ff4fa122",
   "metadata": {},
   "outputs": [],
   "source": [
    "class Figura:\n",
    "    def __init__(self,nombre):\n",
    "        self.nombre = nombre\n",
    "        self.area = None\n",
    "        self.perimetro = None\n",
    "\n",
    "    def calcular_area(self):\n",
    "        pass\n",
    "\n",
    "    def calcular_perimetro(self):\n",
    "        pass\n",
    "\n",
    "    def mostrarInfo(self):\n",
    "        self.calcular_area()\n",
    "        self.calcular_perimetro()\n",
    "        print(f\"Nombre de la figura {self.nombre}\")\n",
    "        print(f\"Área de la figura {self.area}\")\n",
    "        print(f\"Perímetro de la figura {self.perimetro}\")"
   ]
  },
  {
   "cell_type": "code",
   "execution_count": 3,
   "id": "b530777f-5a46-4eff-8318-e5f85e636e2a",
   "metadata": {},
   "outputs": [
    {
     "name": "stdout",
     "output_type": "stream",
     "text": [
      "Nombre de la figura círculo\n",
      "Área de la figura None\n",
      "Perímetro de la figura None\n"
     ]
    }
   ],
   "source": [
    "fig = Figura(\"círculo\")\n",
    "fig.mostrarInfo()"
   ]
  },
  {
   "cell_type": "code",
   "execution_count": 11,
   "id": "efdfb293-e949-4749-ad29-9d30c645a8bd",
   "metadata": {},
   "outputs": [],
   "source": [
    "import math\n",
    "\n",
    "class Figura:\n",
    "\n",
    "    def __init__(self,nombre):\n",
    "        self.nombre = nombre\n",
    "        self.area = None\n",
    "        self.perimetro = None\n",
    "\n",
    "    def calcular_area(self):\n",
    "        pass\n",
    "\n",
    "    def calcular_perimetro(self):\n",
    "        pass\n",
    "        \n",
    "    def mostrarInfo(self):\n",
    "        self.calcular_area()\n",
    "        self.calcular_perimetro()\n",
    "        print(f\"Nombre de la figura {self.nombre}\")\n",
    "        print(f\"Área de la figura {self.area}\")\n",
    "        print(f\"Perímetro de la figura {self.perimetro}\")\n",
    "\n",
    "class Circulo(Figura):\n",
    "    def __init__(self, nombre, radio):\n",
    "        super().__init__(nombre)\n",
    "        self.radio = radio\n",
    "\n",
    "    def calcular_area(self):\n",
    "        return math.pi * self.radio**2\n",
    "\n",
    "class Rectangulo(Figura):\n",
    "    def __init__(self, longitud, base):\n",
    "        self.longitud = longitud\n",
    "        self.base = base\n",
    "\n",
    "    def calcular_area(self):\n",
    "        return self.longitud * self.base\n",
    "\n",
    "    def calcular_perimetro(self):\n",
    "        return 2*(self.longitud + self.base)\n",
    "\n",
    "class Triangulo (Figura):\n",
    "    def __init__(self, base, altura, lado1, lado2, lado3):\n",
    "        self.base = base\n",
    "        self.altura = altura\n",
    "        self.lado1 = lado1\n",
    "        self.lado2 = lado2\n",
    "        self.lado3 = lado3\n",
    "\n",
    "    def calcular_area(self):\n",
    "        return 0.5 * self.base * self.altura\n",
    "\n",
    "    def calcular_perimetro(self):\n",
    "        return self.lado1 + self.lado2 + self.lado3"
   ]
  },
  {
   "cell_type": "code",
   "execution_count": null,
   "id": "db4998eb-0662-4505-849d-5274e0168e6a",
   "metadata": {},
   "outputs": [],
   "source": []
  }
 ],
 "metadata": {
  "kernelspec": {
   "display_name": "Python [conda env:base] *",
   "language": "python",
   "name": "conda-base-py"
  },
  "language_info": {
   "codemirror_mode": {
    "name": "ipython",
    "version": 3
   },
   "file_extension": ".py",
   "mimetype": "text/x-python",
   "name": "python",
   "nbconvert_exporter": "python",
   "pygments_lexer": "ipython3",
   "version": "3.12.7"
  }
 },
 "nbformat": 4,
 "nbformat_minor": 5
}
