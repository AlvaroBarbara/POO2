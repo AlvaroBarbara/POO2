{
 "cells": [
  {
   "cell_type": "markdown",
   "id": "15f48b54-0e14-42af-a701-1304b43eb541",
   "metadata": {},
   "source": [
    "**Python Tkinter**\n",
    "\n",
    "Python Tkinter is a standard GUI library. GUI stands for: Graphical User Interface. Python Tkinter provides a fast and easy way to create dekstop applications. It can provide a variety of tools like buttons, labels, menus and more to create interactive user interfaces. It makes possible to the user to get in control of some actions in the program."
   ]
  },
  {
   "cell_type": "markdown",
   "id": "ac53c139-e507-4d75-bb43-b264ec30ed68",
   "metadata": {},
   "source": [
    "**Create First Tkinter GUI Application**\n",
    "\n",
    "There are 6 basic steps to create Tkinter Python App:\n",
    "1. Import the Tkinter module, it´s necessary for the creation of GUI components.\n",
    "2. Create the main window (container): Initialize the main app window using \"Tk() class\".\n",
    "3. Set window properties, you can define some properties like the title or size of the window.\n",
    "4. Add widgets to the main window:It´s possible to add any number of widgets like buttons, labels or any other stuff to design the interface.\n",
    "5. Pack Widgets: Use geometry managers like pack(), grid() or place() to arrange the widgets within the window.\n",
    "6. Apply event triggers to the widgets: We can attach event triggers to the widgets to define how they respond to user interactions.\n",
    "\n",
    "There are two main methods used which the user needs to remember while creating the Python application with GUI.\n",
    "\n",
    "**Tk()**\n",
    "\n",
    "To create a main window in Tkinter, we use the Tk() class. The syntax for creating a main window is as follows:\n",
    "\n",
    "root = tk.Tk(screenName=None, baseName=None, className=’Tk’, useTk=1)\n",
    "\n",
    "\n",
    "screenName: Used to specify the display name.\n",
    "baseName: Used to set the base name of the application.\n",
    "className: We can change the name of the window by setting this parameter to the desired name.\n",
    "useTk: Indicates whether to use Tk or not.\n",
    "\n",
    "**mainloop()+**\n",
    "\n",
    "The mainloop() method is used to run application once it is ready. It is an infinite loop that keeps the application running, waits for events to occur (such as button clicks) and processes these events as long as the window is not closed."
   ]
  },
  {
   "cell_type": "code",
   "execution_count": 4,
   "id": "998dc70e-8612-4c46-a683-98a25e2d6cf2",
   "metadata": {},
   "outputs": [],
   "source": [
    "# Example\n",
    "import tkinter\n",
    "m = tkinter.Tk()\n",
    "'''\n",
    "widgets are added here\n",
    "'''\n",
    "m.mainloop()"
   ]
  },
  {
   "cell_type": "markdown",
   "id": "20c277e6-f289-47b7-adcc-db344fe9cd8f",
   "metadata": {},
   "source": [
    "1. **Label**\n",
    "\n",
    "It refers to the display box where you can display text or image. There are some options like font, background, etc.\n",
    "\n",
    "\n",
    "The general syntax is: w=Label(master, option=value)"
   ]
  },
  {
   "cell_type": "code",
   "execution_count": 8,
   "id": "6e179acb-a796-4f82-8e00-ce992737f428",
   "metadata": {},
   "outputs": [],
   "source": [
    "#Example \n",
    "from tkinter import *\n",
    "root = Tk()\n",
    "w = Label(root, text='Soy padrísimo')\n",
    "w.pack()\n",
    "root.mainloop()"
   ]
  },
  {
   "cell_type": "markdown",
   "id": "9832a290-ff14-4df1-ac24-becf751acc7a",
   "metadata": {},
   "source": [
    "2. **Button**\n",
    "   \n",
    "A clickable button that can trigger an action. \n",
    "\n",
    "The general syntax is: w=Button(master, option=value)"
   ]
  },
  {
   "cell_type": "code",
   "execution_count": 21,
   "id": "d50f6ac5-0aee-46a6-a64c-1e7e46f6d939",
   "metadata": {},
   "outputs": [],
   "source": [
    "# Example\n",
    "import tkinter as tk\n",
    "r = tk.Tk()\n",
    "r.title('Counting Seconds')\n",
    "button = tk.Button(r, text='Stop', width=25, command=r.destroy)\n",
    "button.pack()\n",
    "r.mainloop()"
   ]
  },
  {
   "cell_type": "markdown",
   "id": "e4eb8041-5c9f-47c4-86ab-88133487fcd4",
   "metadata": {},
   "source": [
    "3. **Entry**\n",
    "   \n",
    "It is used to input the single line text entry from the user. For multi-line text input, Text widget is used. \n",
    "\n",
    "The general syntax is: w=Entry(master, option=value)"
   ]
  },
  {
   "cell_type": "code",
   "execution_count": 23,
   "id": "39618517-cfb0-4ae7-9d66-e11957b1cf7a",
   "metadata": {},
   "outputs": [],
   "source": [
    "# Examplefrom tkinter import *\n",
    "\n",
    "master = Tk()\n",
    "Label(master, text='First Name').grid(row=0)\n",
    "Label(master, text='Last Name').grid(row=1)\n",
    "e1 = Entry(master)\n",
    "e2 = Entry(master)\n",
    "e1.grid(row=0, column=1)\n",
    "e2.grid(row=1, column=1)\n",
    "mainloop()"
   ]
  },
  {
   "cell_type": "markdown",
   "id": "7927ca0d-7ed4-4ec9-9363-66fd46d9a765",
   "metadata": {},
   "source": [
    "4. **CheckButton**\n",
    "   \n",
    "A checkbox can be toggled on or off. It can be linked to a variable to store its state.\n",
    "\n",
    "The general syntax is: w = CheckButton(master, option=value)"
   ]
  },
  {
   "cell_type": "code",
   "execution_count": 29,
   "id": "e3ccde8c-1d8e-4531-b20b-5cc0942952d0",
   "metadata": {},
   "outputs": [],
   "source": [
    "from tkinter import *\n",
    "\n",
    "master = Tk()\n",
    "var1 = IntVar()\n",
    "Checkbutton(master, text='male', variable=var1).grid(row=0, sticky=W)\n",
    "var2 = IntVar()\n",
    "Checkbutton(master, text='female', variable=var2).grid(row=1, sticky=W)\n",
    "mainloop()"
   ]
  },
  {
   "cell_type": "markdown",
   "id": "a3b891f8-13a6-4246-a378-74c29a0ea94c",
   "metadata": {},
   "source": [
    "5. **Radio Button**\n",
    "   \n",
    "It allows the user to select one option from a set of choices. They are grouped by sharing the same variable.\n",
    "\n",
    "The general syntax is: w = RadioButton(master, option=value)"
   ]
  },
  {
   "cell_type": "code",
   "execution_count": 31,
   "id": "f59fe749-0482-4c02-8bb2-20e46045ef44",
   "metadata": {},
   "outputs": [],
   "source": [
    "# Example\n",
    "from tkinter import *\n",
    "\n",
    "root = Tk()\n",
    "v = IntVar()\n",
    "Radiobutton(root, text='GfG', variable=v, value=1).pack(anchor=W)\n",
    "Radiobutton(root, text='MIT', variable=v, value=2).pack(anchor=W)\n",
    "mainloop()"
   ]
  },
  {
   "cell_type": "markdown",
   "id": "896daf66-a61b-40bb-9071-dd61952bc75c",
   "metadata": {},
   "source": [
    "6. **Listbox**\n",
    "   \n",
    "It displays a list of items from which a user can select one or more. The general syntax is: \n",
    "\n",
    "w = Listbox(master, option=value)"
   ]
  },
  {
   "cell_type": "code",
   "execution_count": 33,
   "id": "39012428-7655-408d-b326-ee3d2c163d5d",
   "metadata": {},
   "outputs": [],
   "source": [
    "# Example\n",
    "\n",
    "from tkinter import *\n",
    "\n",
    "top = Tk()\n",
    "Lb = Listbox(top)\n",
    "Lb.insert(1, 'Python')\n",
    "Lb.insert(2, 'Java')\n",
    "Lb.insert(3, 'C++')\n",
    "Lb.insert(4, 'Any other')\n",
    "Lb.pack()\n",
    "top.mainloop()"
   ]
  },
  {
   "cell_type": "markdown",
   "id": "de22c036-a513-4483-bfc9-801a865bba48",
   "metadata": {},
   "source": [
    "7. **Scrollbar**\n",
    "   \n",
    "It refers to the slide controller which will be used to implement listed widgets. The general syntax is: \n",
    "\n",
    "w = Scrollbar(master, option=value)"
   ]
  },
  {
   "cell_type": "code",
   "execution_count": 35,
   "id": "1c1565b0-088e-4611-b0b4-4783fb1556b0",
   "metadata": {},
   "outputs": [],
   "source": [
    "# Example\n",
    "\n",
    "from tkinter import *\n",
    "\n",
    "root = Tk()\n",
    "scrollbar = Scrollbar(root)\n",
    "scrollbar.pack(side=RIGHT, fill=Y)\n",
    "mylist = Listbox(root, yscrollcommand=scrollbar.set)\n",
    "\n",
    "for line in range(100):\n",
    "    mylist.insert(END, 'This is line number' + str(line))\n",
    "    \n",
    "mylist.pack(side=LEFT, fill=BOTH)\n",
    "scrollbar.config(command=mylist.yview)\n",
    "mainloop()"
   ]
  },
  {
   "cell_type": "markdown",
   "id": "633b6525-a8c9-473c-a72d-41a6b0e8bf04",
   "metadata": {},
   "source": [
    "8. **Menu**\n",
    "   \n",
    "It is used to create all kinds of menus used by the application. The general syntax is: \n",
    "\n",
    "window.w = Menu(master, option=value)"
   ]
  },
  {
   "cell_type": "code",
   "execution_count": 37,
   "id": "b12ac076-58fd-4f1b-a553-43b68b1f46b1",
   "metadata": {},
   "outputs": [],
   "source": [
    "# Example\n",
    "\n",
    "from tkinter import *\n",
    "\n",
    "root = Tk()\n",
    "menu = Menu(root)\n",
    "root.config(menu=menu)\n",
    "filemenu = Menu(menu)\n",
    "menu.add_cascade(label='File', menu=filemenu)\n",
    "filemenu.add_command(label='New')\n",
    "filemenu.add_command(label='Open...')\n",
    "filemenu.add_separator()\n",
    "filemenu.add_command(label='Exit', command=root.quit)\n",
    "helpmenu = Menu(menu)\n",
    "menu.add_cascade(label='Help', menu=helpmenu)\n",
    "helpmenu.add_command(label='About')\n",
    "mainloop()"
   ]
  },
  {
   "cell_type": "markdown",
   "id": "08765d3a-5a16-46f6-8e35-52f9fa8ab803",
   "metadata": {},
   "source": [
    "9. **Combobox**\n",
    "    \n",
    "The values for the Combobox are specified using the values parameter. The default value is set using the set method. An event handler function on_select is bound to the Combobox using the bind method, which updates a label with the selected item whenever an item is selected."
   ]
  },
  {
   "cell_type": "code",
   "execution_count": 39,
   "id": "009af531-28be-4aa9-9f55-a7d65db077f7",
   "metadata": {},
   "outputs": [],
   "source": [
    "# Example \n",
    "\n",
    "import tkinter as tk\n",
    "from tkinter import ttk\n",
    "\n",
    "def select(event):\n",
    "    selected_item = combo_box.get()\n",
    "    label.config(text=\"Selected Item: \" + selected_item)\n",
    "\n",
    "root = tk.Tk()\n",
    "root.title(\"Combobox Example\")\n",
    "\n",
    "# Create a label\n",
    "label = tk.Label(root, text=\"Selected Item: \")\n",
    "label.pack(pady=10)\n",
    "\n",
    "# Create a Combobox widget\n",
    "combo_box = ttk.Combobox(root, values=[\"Option 1\", \"Option 2\", \"Option 3\"])\n",
    "combo_box.pack(pady=5)\n",
    "\n",
    "# Set default value\n",
    "combo_box.set(\"Option 1\")\n",
    "\n",
    "# Bind event to selection\n",
    "combo_box.bind(\"<<ComboboxSelected>>\", select)\n",
    "\n",
    "root.mainloop()"
   ]
  },
  {
   "cell_type": "markdown",
   "id": "1a07bf1b-0c33-4e23-b560-147399f34dfd",
   "metadata": {},
   "source": [
    "10. **Scale**\n",
    "It is used to provide a graphical slider that allows to select any value from that scale. The general syntax is:\n",
    "\n",
    "w = Scale(master, option=value)"
   ]
  },
  {
   "cell_type": "code",
   "execution_count": 41,
   "id": "10db6868-c4d6-4dda-93f1-37c8cf4c4a19",
   "metadata": {},
   "outputs": [],
   "source": [
    "# Example\n",
    "\n",
    "from tkinter import *\n",
    "\n",
    "master = Tk()\n",
    "w = Scale(master, from_=0, to=42)\n",
    "w.pack()\n",
    "w = Scale(master, from_=0, to=200, orient=HORIZONTAL)\n",
    "w.pack()\n",
    "mainloop()"
   ]
  },
  {
   "cell_type": "markdown",
   "id": "082684f3-5972-47d4-8610-d96b413522db",
   "metadata": {},
   "source": [
    "11. **TopLevel**\n",
    "This widget is directly controlled by the window manager. It don’t need any parent window to work on. The general syntax is:\n",
    "\n",
    "w = TopLevel(master, option=value)"
   ]
  },
  {
   "cell_type": "code",
   "execution_count": 43,
   "id": "51969d76-0386-4923-a128-9c9e91e35e9a",
   "metadata": {},
   "outputs": [],
   "source": [
    "# Example\n",
    "from tkinter import *\n",
    "\n",
    "root = Tk()\n",
    "root.title('GfG')\n",
    "top = Toplevel()\n",
    "top.title('Python')\n",
    "top.mainloop()"
   ]
  },
  {
   "cell_type": "markdown",
   "id": "2b5cf8d6-9ac2-4108-a8cb-f93dfe7f7774",
   "metadata": {},
   "source": [
    "12. **Message**\n",
    "It is a widget to display text messages with word wrapping.The general syntax is:\n",
    "\n",
    "w = Message(master, option=value)"
   ]
  },
  {
   "cell_type": "code",
   "execution_count": 47,
   "id": "2f6612d7-39b5-4a79-b1f3-5304c987442f",
   "metadata": {},
   "outputs": [],
   "source": [
    "# Example\n",
    "\n",
    "from tkinter import *\n",
    "\n",
    "main = Tk()\n",
    "ourMessage = 'Lololol dabdabdab xdxd'\n",
    "messageVar = Message(main, text=ourMessage)\n",
    "messageVar.config(bg='lightgreen')\n",
    "messageVar.pack()\n",
    "main.mainloop()"
   ]
  },
  {
   "cell_type": "markdown",
   "id": "b1b51e04-54ae-46ed-93de-2fd6c809f479",
   "metadata": {},
   "source": [
    "13. **MenuButton**\n",
    "    \n",
    "It is a part of top-down menu which stays on the window all the time. Every menubutton has its own functionality. The general syntax is:\n",
    "\n",
    "w = MenuButton(master, option=value)"
   ]
  },
  {
   "cell_type": "code",
   "execution_count": 49,
   "id": "58204412-982d-4d7e-abe0-18970f190134",
   "metadata": {},
   "outputs": [],
   "source": [
    "# Example\n",
    "\n",
    "from tkinter import *\n",
    "\n",
    "top = Tk() \n",
    "mb = Menubutton ( top, text = \"GfG\") \n",
    "mb.grid() \n",
    "mb.menu = Menu ( mb, tearoff = 0 ) \n",
    "mb[\"menu\"] = mb.menu \n",
    "cVar = IntVar() \n",
    "aVar = IntVar() \n",
    "mb.menu.add_checkbutton ( label ='Contact', variable = cVar ) \n",
    "mb.menu.add_checkbutton ( label = 'About', variable = aVar ) \n",
    "mb.pack() \n",
    "top.mainloop() "
   ]
  },
  {
   "cell_type": "markdown",
   "id": "e8f2cdc4-8dc3-4a7a-9799-a74b286dcc8b",
   "metadata": {},
   "source": [
    "14. **Progressbar**\n",
    "    \n",
    "progressbar indicates the progress of a long-running task. When the button is clicked, the progressbar fills up to 100% over a short period, simulating a task that takes time to complete."
   ]
  },
  {
   "cell_type": "code",
   "execution_count": 51,
   "id": "b4e593b4-2d0c-47de-8d2a-bd284c2f1c49",
   "metadata": {},
   "outputs": [],
   "source": [
    "# Example\n",
    "\n",
    "import tkinter as tk\n",
    "from tkinter import ttk\n",
    "import time\n",
    "\n",
    "def start_progress():\n",
    "    progress.start()\n",
    "\n",
    "    # Simulate a task that takes time to complete\n",
    "    for i in range(101):\n",
    "      # Simulate some work\n",
    "        time.sleep(0.05)  \n",
    "        progress['value'] = i\n",
    "        # Update the GUI\n",
    "        root.update_idletasks()  \n",
    "    progress.stop()\n",
    "\n",
    "root = tk.Tk()\n",
    "root.title(\"Progressbar Example\")\n",
    "\n",
    "# Create a progressbar widget\n",
    "progress = ttk.Progressbar(root, orient=\"horizontal\", length=300, mode=\"determinate\")\n",
    "progress.pack(pady=20)\n",
    "\n",
    "# Button to start progress\n",
    "start_button = tk.Button(root, text=\"Start Progress\", command=start_progress)\n",
    "start_button.pack(pady=10)\n",
    "\n",
    "root.mainloop()"
   ]
  },
  {
   "cell_type": "markdown",
   "id": "f35ed72e-4581-4055-832b-ede37a7e6b9b",
   "metadata": {},
   "source": [
    "15. **SpinBox**\n",
    "    \n",
    "It is an entry of ‘Entry’ widget. Here, value can be input by selecting a fixed value of numbers. The general syntax is:\n",
    "\n",
    "w = SpinBox(master, option=value)\n",
    "\n"
   ]
  },
  {
   "cell_type": "code",
   "execution_count": 71,
   "id": "7487b517-9f46-4846-81d2-f6d60c492a64",
   "metadata": {},
   "outputs": [],
   "source": [
    "# Example\n",
    "\n",
    "from tkinter import *\n",
    "\n",
    "master = Tk()\n",
    "w = Spinbox(master, from_=0, to=10)\n",
    "w.pack()\n",
    "mainloop()"
   ]
  },
  {
   "cell_type": "markdown",
   "id": "8fa88791-1545-4fc7-833d-8335ca876fc0",
   "metadata": {
    "scrolled": true
   },
   "source": [
    "16. **Text**\n",
    "\n",
    "To edit a multi-line text and format the way it has to be displayed. The general syntax is:\n",
    "\n",
    "w  =Text(master, option=value)\n",
    "\n"
   ]
  },
  {
   "cell_type": "code",
   "execution_count": 78,
   "id": "56cb11ff-ec7c-4d1b-931d-72001b5102d0",
   "metadata": {},
   "outputs": [],
   "source": [
    "# Example\n",
    "\n",
    "from tkinter import *\n",
    "\n",
    "root = Tk()\n",
    "T = Text(root, height=2, width=30)\n",
    "T.pack()\n",
    "T.insert(END, 'Álvaro\\nLA PERSONA MAS FRESCA\\n')\n",
    "mainloop()"
   ]
  },
  {
   "cell_type": "markdown",
   "id": "50622297-7369-4bf4-8765-c3175999a084",
   "metadata": {},
   "source": [
    "17. **Canvas**\n",
    "It is used to draw pictures and other complex layout like graphics, text and widgets. The general syntax is:\n",
    "\n",
    "w = Canvas(master, option=value)"
   ]
  },
  {
   "cell_type": "code",
   "execution_count": 89,
   "id": "cb8275e4-7eed-4b5f-a7a2-6430657f1139",
   "metadata": {},
   "outputs": [],
   "source": [
    "#Example\n",
    "\n",
    "from tkinter import *\n",
    "\n",
    "master = Tk()\n",
    "w = Canvas(master, width=40, height=60)\n",
    "w.pack()\n",
    "canvas_height=20\n",
    "canvas_width=200\n",
    "y = int(canvas_height / 2)\n",
    "w.create_line(0, y, canvas_width, y )\n",
    "mainloop()"
   ]
  },
  {
   "cell_type": "markdown",
   "id": "d3fc1ea2-e797-4435-aaf1-dfc5155a537e",
   "metadata": {},
   "source": [
    "18. **PannedWindow**\n",
    "It is a container widget which is used to handle number of panes arranged in it. The general syntax is:\n",
    "\n",
    "\n",
    "w = PannedWindow(master, option=value)\n",
    "\n"
   ]
  },
  {
   "cell_type": "code",
   "execution_count": null,
   "id": "a56ebc82-cc54-4e60-9d26-5f086d38f7c3",
   "metadata": {},
   "outputs": [],
   "source": [
    "#Example\n",
    "\n",
    "from tkinter import \n",
    "\n",
    "m1 = PanedWindow()\n",
    "m1.pack(fill=BOTH, expand=1)\n",
    "left = Entry(m1, bd=5)\n",
    "m1.add(left)\n",
    "m2 = PanedWindow(m1, orient=VERTICAL)\n",
    "m1.add(m2)\n",
    "top = Scale(m2, orient=HORIZONTAL)\n",
    "m2.add(top)\n",
    "mainloop()"
   ]
  },
  {
   "cell_type": "code",
   "execution_count": null,
   "id": "52bce99b-8668-492b-b57a-7e05a1c76fb6",
   "metadata": {},
   "outputs": [],
   "source": []
  }
 ],
 "metadata": {
  "kernelspec": {
   "display_name": "Python [conda env:base] *",
   "language": "python",
   "name": "conda-base-py"
  },
  "language_info": {
   "codemirror_mode": {
    "name": "ipython",
    "version": 3
   },
   "file_extension": ".py",
   "mimetype": "text/x-python",
   "name": "python",
   "nbconvert_exporter": "python",
   "pygments_lexer": "ipython3",
   "version": "3.12.7"
  }
 },
 "nbformat": 4,
 "nbformat_minor": 5
}
